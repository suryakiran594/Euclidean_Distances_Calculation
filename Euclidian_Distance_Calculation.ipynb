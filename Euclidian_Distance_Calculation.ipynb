{
 "cells": [
  {
   "cell_type": "code",
   "execution_count": 5,
   "id": "7142eac6",
   "metadata": {},
   "outputs": [],
   "source": [
    "import names\n",
    "import pandas as pd\n",
    "from math import sqrt"
   ]
  },
  {
   "cell_type": "code",
   "execution_count": 4,
   "id": "3432ef6c",
   "metadata": {},
   "outputs": [
    {
     "name": "stdout",
     "output_type": "stream",
     "text": [
      "Collecting namesNote: you may need to restart the kernel to use updated packages.\n",
      "\n",
      "  Using cached names-0.3.0.tar.gz (789 kB)\n",
      "  Preparing metadata (setup.py): started\n",
      "  Preparing metadata (setup.py): finished with status 'done'\n",
      "Building wheels for collected packages: names\n",
      "  Building wheel for names (setup.py): started\n",
      "  Building wheel for names (setup.py): finished with status 'done'\n",
      "  Created wheel for names: filename=names-0.3.0-py3-none-any.whl size=803682 sha256=eee1e0b9dbec58f171e1366ddadefef670bc36708c2c749cfef976537956d3e3\n",
      "  Stored in directory: c:\\users\\kiran\\appdata\\local\\pip\\cache\\wheels\\f1\\bc\\04\\55ab9499ea02359ece8b02b4169ebb30aa52d82b84c13fc506\n",
      "Successfully built names\n",
      "Installing collected packages: names\n",
      "Successfully installed names-0.3.0\n"
     ]
    }
   ],
   "source": [
    "pip install names"
   ]
  },
  {
   "cell_type": "code",
   "execution_count": 89,
   "id": "1c51c436",
   "metadata": {},
   "outputs": [],
   "source": [
    "class Euclidean:\n",
    "    def __init__(self,a,b,c,d,e,f,g,h,i):\n",
    "        self.a=a\n",
    "        self.b=b\n",
    "        self.c=c\n",
    "        self.d=d\n",
    "        self.e=e\n",
    "        self.f=f\n",
    "        self.g=g\n",
    "        self.h=h\n",
    "        self.i=i\n",
    "        \n",
    "    def clusters(self):\n",
    "        self.cluster1=[self.a,self.b,self.c]\n",
    "        self.cluster2=[self.d,self.e,self.f]\n",
    "        self.cluster3=[self.g,self.h,self.i]\n",
    "        return(f\"A{self.a}, Cluster1: {self.cluster1}\",f\"Cluster2:{self.cluster2}\",f\"Cluster3:{self.cluster3}\")\n",
    "    def cluster_a(self):\n",
    "        self.dis_a_x=1.0 #distance from A to x\n",
    "        self.dis_a_y=0.9 #distance from A to u\n",
    "        dis_b_x=1.0 #distance from b to x\n",
    "        dis_b_y=1.7 #distance from c to x\n",
    "        dis_c_x=1.3 #distance from c to x\n",
    "        dis_c_y=1.5  #distance from c to y\n",
    "        index=self.cluster1\n",
    "        data={'x':[self.dis_a_x,dis_b_x,dis_c_x],'y':[self.dis_a_y,dis_b_y,dis_c_y]}\n",
    "        self.df1=pd.DataFrame(data=data,index=index)\n",
    "        euclidean_a_b=round(sqrt((dis_b_x-self.dis_a_x)**2+(dis_b_y-self.dis_a_y)**2),2)\n",
    "        euclidean_a_c=round(sqrt((dis_c_x-self.dis_a_x)**2+(dis_c_y-self.dis_a_y)**2),2)\n",
    "        self.alpha=round((euclidean_a_b+euclidean_a_c)/2,2)\n",
    "        print(f\"Euclidean Distance {self.a} to {self.b}: {euclidean_a_b}\")\n",
    "        print(f\"Euclidean Distance {self.a} to {self.c}: {euclidean_a_c}\")\n",
    "        print(f\"Shilhouette Alpha:{self.alpha}\")\n",
    "        return self.df1\n",
    "    \n",
    "    def cluster_b(self):\n",
    "        dis_d_x=1.3 #distance from d to x\n",
    "        dis_d_y=3.9 #distance from d to y\n",
    "        dis_e_x=1.5 #distance from e to x\n",
    "        dis_e_y=4.3  #distance from e to y\n",
    "        dis_f_x=1.6  #distance from f to x\n",
    "        dis_f_y=3.7  #distance from f to y\n",
    "        index=self.cluster2\n",
    "        data={'x':[dis_d_x,dis_e_x,dis_f_x],'y':[dis_d_y,dis_e_y,dis_f_y]}\n",
    "        self.df2=pd.DataFrame(data=data,index=index)\n",
    "        euclidean_a_d=round(sqrt((dis_d_x-self.dis_a_x)**2+(dis_d_y-self.dis_a_y)**2),2)\n",
    "        euclidean_a_e=round(sqrt((dis_e_x-self.dis_a_x)**2+(dis_e_y-self.dis_a_y)**2),2)\n",
    "        euclidean_a_f=round(sqrt((dis_f_x-self.dis_a_x)**2+(dis_f_y-self.dis_a_y)**2),2)\n",
    "        self.avg_dis_a_c2=round((euclidean_a_d+euclidean_a_e+euclidean_a_f)/3,2)\n",
    "        print(f\"Euclidean Distance {self.a} to {self.d}: {euclidean_a_d}\")\n",
    "        print(f\"Euclidean Distance {self.a} to {self.e}: {euclidean_a_e}\")\n",
    "        print(f\"Euclidean Distance {self.a} to {self.f}: {euclidean_a_f}\")\n",
    "        print(f\"Average Distance:{self.a} to Cluster 2:{self.avg_dis_a_c2}\")\n",
    "        print('\\n')\n",
    "        print(self.df1.iloc[0].to_frame())\n",
    "        return self.df2\n",
    "    \n",
    "    def cluster_c(self):\n",
    "        dis_g_x=2.1 #distance from g to x\n",
    "        dis_g_y=0.8 #distance from g to y\n",
    "        dis_h_x=2.2 #distance from h to x\n",
    "        dis_h_y=1.5  #distance from h to y\n",
    "        dis_i_x=2.5  #distance from i to x\n",
    "        dis_i_y=0.9  #distance from i to y\n",
    "        index=self.cluster3\n",
    "        data={'x':[dis_g_x,dis_h_x,dis_i_x],'y':[dis_g_y,dis_h_y,dis_i_y]}\n",
    "        self.df3=pd.DataFrame(data=data,index=index)\n",
    "        euclidean_a_g=round(sqrt((dis_g_x-self.dis_a_x)**2+(dis_g_y-self.dis_a_y)**2),2)\n",
    "        euclidean_a_h=round(sqrt((dis_h_x-self.dis_a_x)**2+(dis_h_y-self.dis_a_y)**2),2)\n",
    "        euclidean_a_i=round(sqrt((dis_i_x-self.dis_a_x)**2+(dis_i_y-self.dis_a_y)**2),2)\n",
    "        self.avg_dis_a_c3=round((euclidean_a_g+euclidean_a_h+euclidean_a_i)/3,2)\n",
    "        print(f\"Euclidean Distance {self.a} to {self.g}: {euclidean_a_g}\")\n",
    "        print(f\"Euclidean Distance {self.a} to {self.h}: {euclidean_a_h}\")\n",
    "        print(f\"Euclidean Distance {self.a} to {self.i}: {euclidean_a_i}\")\n",
    "        print(f\"Average Distance:{self.a} to Cluster 3:{self.avg_dis_a_c3}\")\n",
    "        print('\\n')\n",
    "        print(self.df1.iloc[0].to_frame())\n",
    "        return self.df3\n",
    "    \n",
    "    def silhouette(self):\n",
    "        beta=min([self.avg_dis_a_c2,self.avg_dis_a_c3])\n",
    "        max_alpha_beta=max([beta,self.alpha])\n",
    "        silhouette=(beta-self.alpha)/max_alpha_beta\n",
    "        print(f\"Alpha :{self.alpha}\")\n",
    "        print(f\"Beta:  {beta}\")\n",
    "        return f\"Silhouette Score of {self.a}:{silhouette}\"\n",
    "        \n",
    "        \n",
    "    \n",
    "        "
   ]
  },
  {
   "cell_type": "code",
   "execution_count": 90,
   "id": "e96d65e8",
   "metadata": {},
   "outputs": [],
   "source": [
    "test=Euclidean(*[names.get_first_name() for i in range(0,9)])"
   ]
  },
  {
   "cell_type": "code",
   "execution_count": 91,
   "id": "54dae2ce",
   "metadata": {},
   "outputs": [
    {
     "data": {
      "text/plain": [
       "(\"ACarl, Cluster1: ['Carl', 'Brenda', 'Timothy']\",\n",
       " \"Cluster2:['Ernesto', 'Mark', 'Donna']\",\n",
       " \"Cluster3:['Bertha', 'Richard', 'Jerry']\")"
      ]
     },
     "execution_count": 91,
     "metadata": {},
     "output_type": "execute_result"
    }
   ],
   "source": [
    "test.clusters()"
   ]
  },
  {
   "cell_type": "code",
   "execution_count": 92,
   "id": "d1fa8e30",
   "metadata": {},
   "outputs": [
    {
     "name": "stdout",
     "output_type": "stream",
     "text": [
      "Euclidean Distance Carl to Brenda: 0.8\n",
      "Euclidean Distance Carl to Timothy: 0.67\n",
      "Shilhouette Alpha:0.74\n"
     ]
    },
    {
     "data": {
      "text/html": [
       "<div>\n",
       "<style scoped>\n",
       "    .dataframe tbody tr th:only-of-type {\n",
       "        vertical-align: middle;\n",
       "    }\n",
       "\n",
       "    .dataframe tbody tr th {\n",
       "        vertical-align: top;\n",
       "    }\n",
       "\n",
       "    .dataframe thead th {\n",
       "        text-align: right;\n",
       "    }\n",
       "</style>\n",
       "<table border=\"1\" class=\"dataframe\">\n",
       "  <thead>\n",
       "    <tr style=\"text-align: right;\">\n",
       "      <th></th>\n",
       "      <th>x</th>\n",
       "      <th>y</th>\n",
       "    </tr>\n",
       "  </thead>\n",
       "  <tbody>\n",
       "    <tr>\n",
       "      <th>Carl</th>\n",
       "      <td>1.0</td>\n",
       "      <td>0.9</td>\n",
       "    </tr>\n",
       "    <tr>\n",
       "      <th>Brenda</th>\n",
       "      <td>1.0</td>\n",
       "      <td>1.7</td>\n",
       "    </tr>\n",
       "    <tr>\n",
       "      <th>Timothy</th>\n",
       "      <td>1.3</td>\n",
       "      <td>1.5</td>\n",
       "    </tr>\n",
       "  </tbody>\n",
       "</table>\n",
       "</div>"
      ],
      "text/plain": [
       "           x    y\n",
       "Carl     1.0  0.9\n",
       "Brenda   1.0  1.7\n",
       "Timothy  1.3  1.5"
      ]
     },
     "execution_count": 92,
     "metadata": {},
     "output_type": "execute_result"
    }
   ],
   "source": [
    "test.cluster_a()"
   ]
  },
  {
   "cell_type": "code",
   "execution_count": 93,
   "id": "c0bcb8e4",
   "metadata": {},
   "outputs": [
    {
     "name": "stdout",
     "output_type": "stream",
     "text": [
      "Euclidean Distance Carl to Ernesto: 3.01\n",
      "Euclidean Distance Carl to Mark: 3.44\n",
      "Euclidean Distance Carl to Donna: 2.86\n",
      "Average Distance:Carl to Cluster 2:3.1\n",
      "\n",
      "\n",
      "   Carl\n",
      "x   1.0\n",
      "y   0.9\n"
     ]
    },
    {
     "data": {
      "text/html": [
       "<div>\n",
       "<style scoped>\n",
       "    .dataframe tbody tr th:only-of-type {\n",
       "        vertical-align: middle;\n",
       "    }\n",
       "\n",
       "    .dataframe tbody tr th {\n",
       "        vertical-align: top;\n",
       "    }\n",
       "\n",
       "    .dataframe thead th {\n",
       "        text-align: right;\n",
       "    }\n",
       "</style>\n",
       "<table border=\"1\" class=\"dataframe\">\n",
       "  <thead>\n",
       "    <tr style=\"text-align: right;\">\n",
       "      <th></th>\n",
       "      <th>x</th>\n",
       "      <th>y</th>\n",
       "    </tr>\n",
       "  </thead>\n",
       "  <tbody>\n",
       "    <tr>\n",
       "      <th>Ernesto</th>\n",
       "      <td>1.3</td>\n",
       "      <td>3.9</td>\n",
       "    </tr>\n",
       "    <tr>\n",
       "      <th>Mark</th>\n",
       "      <td>1.5</td>\n",
       "      <td>4.3</td>\n",
       "    </tr>\n",
       "    <tr>\n",
       "      <th>Donna</th>\n",
       "      <td>1.6</td>\n",
       "      <td>3.7</td>\n",
       "    </tr>\n",
       "  </tbody>\n",
       "</table>\n",
       "</div>"
      ],
      "text/plain": [
       "           x    y\n",
       "Ernesto  1.3  3.9\n",
       "Mark     1.5  4.3\n",
       "Donna    1.6  3.7"
      ]
     },
     "execution_count": 93,
     "metadata": {},
     "output_type": "execute_result"
    }
   ],
   "source": [
    "test.cluster_b()"
   ]
  },
  {
   "cell_type": "code",
   "execution_count": 94,
   "id": "927b4055",
   "metadata": {},
   "outputs": [
    {
     "name": "stdout",
     "output_type": "stream",
     "text": [
      "Euclidean Distance Carl to Bertha: 1.1\n",
      "Euclidean Distance Carl to Richard: 1.34\n",
      "Euclidean Distance Carl to Jerry: 1.5\n",
      "Average Distance:Carl to Cluster 3:1.31\n",
      "\n",
      "\n",
      "   Carl\n",
      "x   1.0\n",
      "y   0.9\n"
     ]
    },
    {
     "data": {
      "text/html": [
       "<div>\n",
       "<style scoped>\n",
       "    .dataframe tbody tr th:only-of-type {\n",
       "        vertical-align: middle;\n",
       "    }\n",
       "\n",
       "    .dataframe tbody tr th {\n",
       "        vertical-align: top;\n",
       "    }\n",
       "\n",
       "    .dataframe thead th {\n",
       "        text-align: right;\n",
       "    }\n",
       "</style>\n",
       "<table border=\"1\" class=\"dataframe\">\n",
       "  <thead>\n",
       "    <tr style=\"text-align: right;\">\n",
       "      <th></th>\n",
       "      <th>x</th>\n",
       "      <th>y</th>\n",
       "    </tr>\n",
       "  </thead>\n",
       "  <tbody>\n",
       "    <tr>\n",
       "      <th>Bertha</th>\n",
       "      <td>2.1</td>\n",
       "      <td>0.8</td>\n",
       "    </tr>\n",
       "    <tr>\n",
       "      <th>Richard</th>\n",
       "      <td>2.2</td>\n",
       "      <td>1.5</td>\n",
       "    </tr>\n",
       "    <tr>\n",
       "      <th>Jerry</th>\n",
       "      <td>2.5</td>\n",
       "      <td>0.9</td>\n",
       "    </tr>\n",
       "  </tbody>\n",
       "</table>\n",
       "</div>"
      ],
      "text/plain": [
       "           x    y\n",
       "Bertha   2.1  0.8\n",
       "Richard  2.2  1.5\n",
       "Jerry    2.5  0.9"
      ]
     },
     "execution_count": 94,
     "metadata": {},
     "output_type": "execute_result"
    }
   ],
   "source": [
    "test.cluster_c()"
   ]
  },
  {
   "cell_type": "code",
   "execution_count": 95,
   "id": "5e18b51e",
   "metadata": {},
   "outputs": [
    {
     "name": "stdout",
     "output_type": "stream",
     "text": [
      "Alpha :0.74\n",
      "Beta:  1.31\n"
     ]
    },
    {
     "data": {
      "text/plain": [
       "'Silhouette Score of Carl:0.4351145038167939'"
      ]
     },
     "execution_count": 95,
     "metadata": {},
     "output_type": "execute_result"
    }
   ],
   "source": [
    "test.silhouette()"
   ]
  },
  {
   "cell_type": "code",
   "execution_count": null,
   "id": "db108ac2",
   "metadata": {},
   "outputs": [],
   "source": []
  },
  {
   "cell_type": "code",
   "execution_count": null,
   "id": "b627c8ba",
   "metadata": {},
   "outputs": [],
   "source": []
  }
 ],
 "metadata": {
  "kernelspec": {
   "display_name": "Python 3 (ipykernel)",
   "language": "python",
   "name": "python3"
  },
  "language_info": {
   "codemirror_mode": {
    "name": "ipython",
    "version": 3
   },
   "file_extension": ".py",
   "mimetype": "text/x-python",
   "name": "python",
   "nbconvert_exporter": "python",
   "pygments_lexer": "ipython3",
   "version": "3.9.13"
  }
 },
 "nbformat": 4,
 "nbformat_minor": 5
}
